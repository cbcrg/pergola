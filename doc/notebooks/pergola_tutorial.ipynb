{
 "cells": [
  {
   "cell_type": "markdown",
   "metadata": {},
   "source": [
    "# .. _getting_start:"
   ]
  },
  {
   "cell_type": "markdown",
   "metadata": {},
   "source": [
    "You can code your own scripts using ``pergola`` as a Python library. Here we summarize some examples of how you can use it on your scripts.\n",
    "\n",
    "<div class=\"alert alert-block alert-info\"><b>Tip:</b> This page is available as a <a href=\"http://jupyter.org/\">Jupyter Notebook</a> on <code>/pergola/doc/notebooks</code> under <a href=\"https://github.com/cbcrg/pergola\">pergola</a> GitHub repository. Should you want, you can interactively execute the code using Jupyter.</div>\n"
   ]
  },
  {
   "cell_type": "markdown",
   "metadata": {},
   "source": [
    "## Input data"
   ]
  },
  {
   "cell_type": "markdown",
   "metadata": {},
   "source": [
    "The two basics data inputs ``pergola`` uses is a file with longitudinal recordings (sequence of temporal events) in the form of a ``CSV`` or ``xlsx`` file and a mapping file containing the correspondence between the fields in this previous file and the ``pergola`` ontology."
   ]
  },
  {
   "cell_type": "markdown",
   "metadata": {},
   "source": [
    "## Sequence of temporal events"
   ]
  },
  {
   "cell_type": "markdown",
   "metadata": {},
   "source": [
    "Pergola can process any sequence of temporal events contained in a character-separated file as in the example below:  "
   ]
  },
  {
   "cell_type": "markdown",
   "metadata": {},
   "source": [
    "```\n",
    "Animal\tStartT\tEndT\tBehavior\tValue\n",
    "1\t137\t156\teat\t0.06\n",
    "1\t168\t192\tdrink\t0.02\n",
    "1\t250\t281\teat\t0.07\n",
    "1\t311\t333\teat\t0.08\n",
    "1\t457\t482\tdrink\t0.02\n",
    "1\t569\t601\tdrink\t0.03\n",
    "```"
   ]
  },
  {
   "cell_type": "markdown",
   "metadata": {},
   "source": [
    "<div class=\"alert alert-block alert-info\"><b>Note:</b> This example loads a sequence of eating and drinking events from a experiment where mice were used to study feeding behavior.</div>\n"
   ]
  },
  {
   "cell_type": "markdown",
   "metadata": {},
   "source": [
    "## Mapping file"
   ]
  },
  {
   "cell_type": "markdown",
   "metadata": {},
   "source": [
    "Pergola needs that you set the equivalences between the fields of the input data and a controled vocabular defined by Pergola ontology. The format of the mapping file is [the external mapping file format](http://geneontology.org/page/external-mapping-file-format) from the Gene Ontology Consortium, you can see an example below:"
   ]
  },
  {
   "cell_type": "markdown",
   "metadata": {},
   "source": [
    "```\n",
    "! Mapping of behavioural fields into genome browser fields\n",
    "!\n",
    "behavioural_file:Animal > pergola:track\n",
    "behavioural_file:StartT > pergola:chromStart\n",
    "behavioural_file:EndT > pergola:chromEnd\n",
    "behavioural_file:Behavior > pergola:dataTypes\n",
    "behavioural_file:Value > pergola:dataValue\n",
    "```"
   ]
  },
  {
   "cell_type": "code",
   "execution_count": 1,
   "metadata": {},
   "outputs": [],
   "source": [
    "# You might have to set the path to run this notebook directly from ipython notebook\n",
    "import sys\n",
    "\n",
    "my_path_to_modules = \"/Library/Frameworks/Python.framework/Versions/2.7/lib/python2.7/site-packages/\"\n",
    "sys.path.append(my_path_to_modules)"
   ]
  },
  {
   "cell_type": "markdown",
   "metadata": {},
   "source": [
    "## MappingInfo objects"
   ]
  },
  {
   "cell_type": "markdown",
   "metadata": {},
   "source": [
    "Mappings between the input data and pergola ontology are loaded in MappingInfo objects:"
   ]
  },
  {
   "cell_type": "code",
   "execution_count": 2,
   "metadata": {},
   "outputs": [],
   "source": [
    "from pergola import mapping\n",
    "# load mapping file \n",
    "mapping_info = mapping.MappingInfo(\"../../sample_data/feeding_behavior/b2p.txt\")"
   ]
  },
  {
   "cell_type": "markdown",
   "metadata": {},
   "source": [
    "To view the mappings MappingInfo objects provide the :func:`pergola.mapping.Mapping.write` method"
   ]
  },
  {
   "cell_type": "code",
   "execution_count": 3,
   "metadata": {},
   "outputs": [
    {
     "name": "stdout",
     "output_type": "stream",
     "text": [
      "EndT \tend\n",
      "Nature \tdata_types\n",
      "Value \tdata_value\n",
      "StartT \tstart\n",
      "Phase \tchrom\n",
      "CAGE \ttrack\n"
     ]
    }
   ],
   "source": [
    "mapping_info.write()"
   ]
  },
  {
   "cell_type": "markdown",
   "metadata": {},
   "source": [
    "MappingInfo objects are needed to load data into IntData objects as it will be explained in the lines below."
   ]
  },
  {
   "cell_type": "markdown",
   "metadata": {},
   "source": [
    "## IntData objects"
   ]
  },
  {
   "cell_type": "markdown",
   "metadata": {},
   "source": [
    "IntData objects load all the intervals of a file:"
   ]
  },
  {
   "cell_type": "code",
   "execution_count": 7,
   "metadata": {},
   "outputs": [
    {
     "name": "stderr",
     "output_type": "stream",
     "text": [
      "Input file format identified as csv\n"
     ]
    }
   ],
   "source": [
    "from pergola import parsers\n",
    "from pergola import intervals\n",
    "\n",
    "\n",
    "# load the data into an IntData object that will store the sequence of events\n",
    "int_data = intervals.IntData(\"../../sample_data/feeding_behavior/feeding_behavior_HF_mice.csv\", map_dict=mapping_info.correspondence)\n"
   ]
  },
  {
   "cell_type": "markdown",
   "metadata": {},
   "source": [
    "Intervals when loaded are stored in a list of tuples that can be accessed by data attribute:"
   ]
  },
  {
   "cell_type": "code",
   "execution_count": 8,
   "metadata": {},
   "outputs": [
    {
     "data": {
      "text/plain": [
       "[('1', 1335985232, 'food_sc', 1335985200, '0.02'),\n",
       " ('1', 1335986427, 'food_sc', 1335986151, '0.1'),\n",
       " ('1', 1335986451, 'water', 1335986420, '0.08'),\n",
       " ('1', 1335986553, 'water', 1335986541, '0.02'),\n",
       " ('1', 1335986844, 'water', 1335986832, '0.02'),\n",
       " ('1', 1335986947, 'food_sc', 1335986845, '0.02'),\n",
       " ('1', 1335987059, 'water', 1335987044, '0.02'),\n",
       " ('1', 1335987223, 'food_sc', 1335987089, '0.02'),\n",
       " ('1', 1335987495, 'food_sc', 1335987424, '0.02'),\n",
       " ('1', 1335987574, 'water', 1335987546, '0.04')]"
      ]
     },
     "execution_count": 8,
     "metadata": {},
     "output_type": "execute_result"
    }
   ],
   "source": [
    "#Displays first 10 tuples of data list\n",
    "int_data.data[:10]"
   ]
  },
  {
   "cell_type": "markdown",
   "metadata": {},
   "source": [
    "IntData objects also provide some other attributes like the set of different tracks (term for IDs in pergola ontology) contained in the data: "
   ]
  },
  {
   "cell_type": "code",
   "execution_count": 9,
   "metadata": {},
   "outputs": [
    {
     "data": {
      "text/plain": [
       "{'food_fat', 'food_sc', 'water'}"
      ]
     },
     "execution_count": 9,
     "metadata": {},
     "output_type": "execute_result"
    }
   ],
   "source": [
    "int_data.data_types"
   ]
  },
  {
   "cell_type": "markdown",
   "metadata": {},
   "source": [
    "The minimun value present in the data:"
   ]
  },
  {
   "cell_type": "code",
   "execution_count": 10,
   "metadata": {},
   "outputs": [
    {
     "data": {
      "text/plain": [
       "1335985200"
      ]
     },
     "execution_count": 10,
     "metadata": {},
     "output_type": "execute_result"
    }
   ],
   "source": [
    "int_data.min"
   ]
  },
  {
   "cell_type": "markdown",
   "metadata": {},
   "source": [
    "The maximun value:"
   ]
  },
  {
   "cell_type": "code",
   "execution_count": 11,
   "metadata": {},
   "outputs": [
    {
     "data": {
      "text/plain": [
       "1337799586"
      ]
     },
     "execution_count": 11,
     "metadata": {},
     "output_type": "execute_result"
    }
   ],
   "source": [
    "int_data.max"
   ]
  },
  {
   "cell_type": "markdown",
   "metadata": {},
   "source": [
    "The set of different tracks present in the data (term for different IDs in pergola ontology). In this case the different IDs for each mice:"
   ]
  },
  {
   "cell_type": "code",
   "execution_count": 12,
   "metadata": {},
   "outputs": [
    {
     "data": {
      "text/plain": [
       "{'1',\n",
       " '10',\n",
       " '11',\n",
       " '12',\n",
       " '13',\n",
       " '14',\n",
       " '15',\n",
       " '16',\n",
       " '17',\n",
       " '18',\n",
       " '2',\n",
       " '3',\n",
       " '4',\n",
       " '5',\n",
       " '7',\n",
       " '8',\n",
       " '9'}"
      ]
     },
     "execution_count": 12,
     "metadata": {},
     "output_type": "execute_result"
    }
   ],
   "source": [
    "int_data.tracks"
   ]
  },
  {
   "cell_type": "markdown",
   "metadata": {},
   "source": [
    "And finally the dataTypes (term for different types of data in pergola ontology) that can be used to encode for example different behaviours:"
   ]
  },
  {
   "cell_type": "code",
   "execution_count": 14,
   "metadata": {},
   "outputs": [
    {
     "name": "stdout",
     "output_type": "stream",
     "text": [
      "EndT \tend\n",
      "Nature \tdata_types\n",
      "Value \tdata_value\n",
      "StartT \tstart\n",
      "Phase \tchrom\n",
      "CAGE \ttrack\n"
     ]
    }
   ],
   "source": [
    "mapping_info.write()"
   ]
  },
  {
   "cell_type": "code",
   "execution_count": 15,
   "metadata": {},
   "outputs": [
    {
     "data": {
      "text/plain": [
       "'end'"
      ]
     },
     "execution_count": 15,
     "metadata": {},
     "output_type": "execute_result"
    }
   ],
   "source": [
    "mapping_info.correspondence['EndT']"
   ]
  },
  {
   "cell_type": "markdown",
   "metadata": {},
   "source": [
    "## Data conversion:"
   ]
  },
  {
   "cell_type": "markdown",
   "metadata": {},
   "source": [
    "GenomicContainer is a generic class from which three subclasses derive:"
   ]
  },
  {
   "cell_type": "markdown",
   "metadata": {},
   "source": [
    "## Track objects"
   ]
  },
  {
   "cell_type": "markdown",
   "metadata": {},
   "source": [
    "Data can be loaded into a Track objects by read function. This function allows to convert the intervals to relative values using the first time point as 0:"
   ]
  },
  {
   "cell_type": "code",
   "execution_count": 16,
   "metadata": {},
   "outputs": [
    {
     "name": "stderr",
     "output_type": "stream",
     "text": [
      "Relative coordinates set to: True\n"
     ]
    }
   ],
   "source": [
    "int_data_read = int_data.read(relative_coord=True)\n"
   ]
  },
  {
   "cell_type": "code",
   "execution_count": 17,
   "metadata": {},
   "outputs": [
    {
     "data": {
      "text/plain": [
       "{'1',\n",
       " '10',\n",
       " '11',\n",
       " '12',\n",
       " '13',\n",
       " '14',\n",
       " '15',\n",
       " '16',\n",
       " '17',\n",
       " '18',\n",
       " '2',\n",
       " '3',\n",
       " '4',\n",
       " '5',\n",
       " '7',\n",
       " '8',\n",
       " '9'}"
      ]
     },
     "execution_count": 17,
     "metadata": {},
     "output_type": "execute_result"
    }
   ],
   "source": [
    "int_data_read.list_tracks"
   ]
  },
  {
   "cell_type": "code",
   "execution_count": 18,
   "metadata": {},
   "outputs": [
    {
     "data": {
      "text/plain": [
       "[0.02, 8.82]"
      ]
     },
     "execution_count": 18,
     "metadata": {},
     "output_type": "execute_result"
    }
   ],
   "source": [
    "int_data_read.range_values"
   ]
  },
  {
   "cell_type": "code",
   "execution_count": 19,
   "metadata": {},
   "outputs": [],
   "source": [
    "dict_bed = int_data_read.convert(mode='bed')"
   ]
  },
  {
   "cell_type": "code",
   "execution_count": 20,
   "metadata": {},
   "outputs": [
    {
     "name": "stdout",
     "output_type": "stream",
     "text": [
      "key.......:  ('12', 'food_sc')\n",
      ":::::::::::::: food_sc\n",
      "key.......:  ('7', 'food_sc')\n",
      ":::::::::::::: food_sc\n",
      "key.......:  ('14', 'water')\n",
      ":::::::::::::: water\n",
      "key.......:  ('1', 'food_sc')\n",
      ":::::::::::::: food_sc\n",
      "key.......:  ('12', 'food_fat')\n",
      ":::::::::::::: food_fat\n",
      "key.......:  ('2', 'food_sc')\n",
      ":::::::::::::: food_sc\n",
      "key.......:  ('10', 'food_fat')\n",
      ":::::::::::::: food_fat\n",
      "key.......:  ('15', 'food_sc')\n",
      ":::::::::::::: food_sc\n",
      "key.......:  ('17', 'water')\n",
      ":::::::::::::: water\n",
      "key.......:  ('14', 'food_fat')\n",
      ":::::::::::::: food_fat\n",
      "key.......:  ('5', 'food_sc')\n",
      ":::::::::::::: food_sc\n",
      "key.......:  ('18', 'food_fat')\n",
      ":::::::::::::: food_fat\n",
      "key.......:  ('2', 'water')\n",
      ":::::::::::::: water\n",
      "key.......:  ('11', 'water')\n",
      ":::::::::::::: water\n",
      "key.......:  ('16', 'food_fat')\n",
      ":::::::::::::: food_fat\n",
      "key.......:  ('16', 'water')\n",
      ":::::::::::::: water\n",
      "key.......:  ('14', 'food_sc')\n",
      ":::::::::::::: food_sc\n",
      "key.......:  ('11', 'food_sc')\n",
      ":::::::::::::: food_sc\n",
      "key.......:  ('4', 'water')\n",
      ":::::::::::::: water\n",
      "key.......:  ('3', 'food_sc')\n",
      ":::::::::::::: food_sc\n",
      "key.......:  ('2', 'food_fat')\n",
      ":::::::::::::: food_fat\n",
      "key.......:  ('10', 'water')\n",
      ":::::::::::::: water\n",
      "key.......:  ('9', 'water')\n",
      ":::::::::::::: water\n",
      "key.......:  ('4', 'food_sc')\n",
      ":::::::::::::: food_sc\n",
      "key.......:  ('8', 'water')\n",
      ":::::::::::::: water\n",
      "key.......:  ('7', 'water')\n",
      ":::::::::::::: water\n",
      "key.......:  ('17', 'food_sc')\n",
      ":::::::::::::: food_sc\n",
      "key.......:  ('9', 'food_sc')\n",
      ":::::::::::::: food_sc\n",
      "key.......:  ('12', 'water')\n",
      ":::::::::::::: water\n",
      "key.......:  ('16', 'food_sc')\n",
      ":::::::::::::: food_sc\n",
      "key.......:  ('5', 'water')\n",
      ":::::::::::::: water\n",
      "key.......:  ('10', 'food_sc')\n",
      ":::::::::::::: food_sc\n",
      "key.......:  ('13', 'water')\n",
      ":::::::::::::: water\n",
      "key.......:  ('8', 'food_fat')\n",
      ":::::::::::::: food_fat\n",
      "key.......:  ('1', 'water')\n",
      ":::::::::::::: water\n",
      "key.......:  ('3', 'water')\n",
      ":::::::::::::: water\n",
      "key.......:  ('18', 'food_sc')\n",
      ":::::::::::::: food_sc\n",
      "key.......:  ('15', 'water')\n",
      ":::::::::::::: water\n",
      "key.......:  ('18', 'water')\n",
      ":::::::::::::: water\n",
      "key.......:  ('4', 'food_fat')\n",
      ":::::::::::::: food_fat\n",
      "key.......:  ('13', 'food_sc')\n",
      ":::::::::::::: food_sc\n",
      "key.......:  ('8', 'food_sc')\n",
      ":::::::::::::: food_sc\n"
     ]
    }
   ],
   "source": [
    "#dict_bed = data_read.convert(mode='bed')\n",
    "for key in dict_bed:\n",
    "    print \"key.......: \",key#del\n",
    "    bedSingle = dict_bed [key]\n",
    "    print \"::::::::::::::\",bedSingle.data_types"
   ]
  },
  {
   "cell_type": "code",
   "execution_count": 21,
   "metadata": {},
   "outputs": [],
   "source": [
    "bed_12_food_sc = dict_bed[('2', 'food_sc')]"
   ]
  },
  {
   "cell_type": "code",
   "execution_count": 22,
   "metadata": {},
   "outputs": [
    {
     "data": {
      "text/plain": [
       "['0.02', '0.540000000000001']"
      ]
     },
     "execution_count": 22,
     "metadata": {},
     "output_type": "execute_result"
    }
   ],
   "source": [
    "bed_12_food_sc.range_values"
   ]
  },
  {
   "cell_type": "code",
   "execution_count": 23,
   "metadata": {},
   "outputs": [
    {
     "data": {
      "text/plain": [
       "pergola.tracks.Bed"
      ]
     },
     "execution_count": 23,
     "metadata": {},
     "output_type": "execute_result"
    }
   ],
   "source": [
    "type(bed_12_food_sc)"
   ]
  },
  {
   "cell_type": "code",
   "execution_count": 24,
   "metadata": {},
   "outputs": [
    {
     "data": {
      "text/plain": [
       "<generator object track_convert2bed at 0x1077e5550>"
      ]
     },
     "execution_count": 24,
     "metadata": {},
     "output_type": "execute_result"
    }
   ],
   "source": [
    "bed_12_food_sc.data    \n",
    "\n",
    "# Code to print the data inside a bed object (generator object)\n",
    "#for row in bed_12_food_sc.data:\n",
    "#    print row"
   ]
  },
  {
   "cell_type": "code",
   "execution_count": 25,
   "metadata": {},
   "outputs": [],
   "source": [
    "dict_bedGraph = int_data_read.convert(mode='bedGraph')"
   ]
  },
  {
   "cell_type": "code",
   "execution_count": 26,
   "metadata": {},
   "outputs": [
    {
     "name": "stdout",
     "output_type": "stream",
     "text": [
      "key.......:  ('12', 'food_sc')\n",
      ":::::::::::::: food_sc\n",
      "key.......:  ('7', 'food_sc')\n",
      ":::::::::::::: food_sc\n",
      "key.......:  ('14', 'water')\n",
      ":::::::::::::: water\n",
      "key.......:  ('1', 'food_sc')\n",
      ":::::::::::::: food_sc\n",
      "key.......:  ('12', 'food_fat')\n",
      ":::::::::::::: food_fat\n",
      "key.......:  ('2', 'food_sc')\n",
      ":::::::::::::: food_sc\n",
      "key.......:  ('10', 'food_fat')\n",
      ":::::::::::::: food_fat\n",
      "key.......:  ('15', 'food_sc')\n",
      ":::::::::::::: food_sc\n",
      "key.......:  ('17', 'water')\n",
      ":::::::::::::: water\n",
      "key.......:  ('14', 'food_fat')\n",
      ":::::::::::::: food_fat\n",
      "key.......:  ('5', 'food_sc')\n",
      ":::::::::::::: food_sc\n",
      "key.......:  ('18', 'food_fat')\n",
      ":::::::::::::: food_fat\n",
      "key.......:  ('2', 'water')\n",
      ":::::::::::::: water\n",
      "key.......:  ('11', 'water')\n",
      ":::::::::::::: water\n",
      "key.......:  ('16', 'food_fat')\n",
      ":::::::::::::: food_fat\n",
      "key.......:  ('16', 'water')\n",
      ":::::::::::::: water\n",
      "key.......:  ('14', 'food_sc')\n",
      ":::::::::::::: food_sc\n",
      "key.......:  ('11', 'food_sc')\n",
      ":::::::::::::: food_sc\n",
      "key.......:  ('4', 'water')\n",
      ":::::::::::::: water\n",
      "key.......:  ('3', 'food_sc')\n",
      ":::::::::::::: food_sc\n",
      "key.......:  ('2', 'food_fat')\n",
      ":::::::::::::: food_fat\n",
      "key.......:  ('10', 'water')\n",
      ":::::::::::::: water\n",
      "key.......:  ('9', 'water')\n",
      ":::::::::::::: water\n",
      "key.......:  ('4', 'food_sc')\n",
      ":::::::::::::: food_sc\n",
      "key.......:  ('8', 'water')\n",
      ":::::::::::::: water\n",
      "key.......:  ('7', 'water')\n",
      ":::::::::::::: water\n",
      "key.......:  ('17', 'food_sc')\n",
      ":::::::::::::: food_sc\n",
      "key.......:  ('9', 'food_sc')\n",
      ":::::::::::::: food_sc\n",
      "key.......:  ('12', 'water')\n",
      ":::::::::::::: water\n",
      "key.......:  ('16', 'food_sc')\n",
      ":::::::::::::: food_sc\n",
      "key.......:  ('5', 'water')\n",
      ":::::::::::::: water\n",
      "key.......:  ('10', 'food_sc')\n",
      ":::::::::::::: food_sc\n",
      "key.......:  ('13', 'water')\n",
      ":::::::::::::: water\n",
      "key.......:  ('8', 'food_fat')\n",
      ":::::::::::::: food_fat\n",
      "key.......:  ('1', 'water')\n",
      ":::::::::::::: water\n",
      "key.......:  ('3', 'water')\n",
      ":::::::::::::: water\n",
      "key.......:  ('18', 'food_sc')\n",
      ":::::::::::::: food_sc\n",
      "key.......:  ('15', 'water')\n",
      ":::::::::::::: water\n",
      "key.......:  ('18', 'water')\n",
      ":::::::::::::: water\n",
      "key.......:  ('4', 'food_fat')\n",
      ":::::::::::::: food_fat\n",
      "key.......:  ('13', 'food_sc')\n",
      ":::::::::::::: food_sc\n",
      "key.......:  ('8', 'food_sc')\n",
      ":::::::::::::: food_sc\n"
     ]
    }
   ],
   "source": [
    "for key in dict_bedGraph:\n",
    "    print \"key.......: \",key#del\n",
    "    bedGraphSingle = dict_bedGraph [key]\n",
    "    print \"::::::::::::::\",bedGraphSingle.data_types"
   ]
  },
  {
   "cell_type": "code",
   "execution_count": 27,
   "metadata": {},
   "outputs": [],
   "source": [
    "bedG_8_food_sc = dict_bedGraph[('8', 'food_sc')]"
   ]
  },
  {
   "cell_type": "markdown",
   "metadata": {},
   "source": [
    "## Track object"
   ]
  },
  {
   "cell_type": "code",
   "execution_count": 28,
   "metadata": {},
   "outputs": [
    {
     "data": {
      "text/plain": [
       "<generator object track_convert2bedGraph at 0x1081f9690>"
      ]
     },
     "execution_count": 28,
     "metadata": {},
     "output_type": "execute_result"
    }
   ],
   "source": [
    "bedG_8_food_sc.data\n",
    "\n",
    "# Code to print the data inside a bed object (generator object)\n",
    "#for row in bedG_8_food_sc:\n",
    "#    print row"
   ]
  },
  {
   "cell_type": "code",
   "execution_count": 29,
   "metadata": {},
   "outputs": [
    {
     "data": {
      "text/plain": [
       "pergola.tracks.Track"
      ]
     },
     "execution_count": 29,
     "metadata": {},
     "output_type": "execute_result"
    }
   ],
   "source": [
    "type(int_data_read)"
   ]
  },
  {
   "cell_type": "code",
   "execution_count": 30,
   "metadata": {},
   "outputs": [
    {
     "data": {
      "text/plain": [
       "list"
      ]
     },
     "execution_count": 30,
     "metadata": {},
     "output_type": "execute_result"
    }
   ],
   "source": [
    "type(int_data_read.data)"
   ]
  },
  {
   "cell_type": "code",
   "execution_count": 31,
   "metadata": {},
   "outputs": [
    {
     "data": {
      "text/plain": [
       "[0.02, 8.82]"
      ]
     },
     "execution_count": 31,
     "metadata": {},
     "output_type": "execute_result"
    }
   ],
   "source": [
    "int_data_read.range_values"
   ]
  },
  {
   "cell_type": "code",
   "execution_count": 32,
   "metadata": {},
   "outputs": [
    {
     "data": {
      "text/plain": [
       "{'1',\n",
       " '10',\n",
       " '11',\n",
       " '12',\n",
       " '13',\n",
       " '14',\n",
       " '15',\n",
       " '16',\n",
       " '17',\n",
       " '18',\n",
       " '2',\n",
       " '3',\n",
       " '4',\n",
       " '5',\n",
       " '7',\n",
       " '8',\n",
       " '9'}"
      ]
     },
     "execution_count": 32,
     "metadata": {},
     "output_type": "execute_result"
    }
   ],
   "source": [
    "int_data_read.list_tracks"
   ]
  },
  {
   "cell_type": "code",
   "execution_count": 33,
   "metadata": {},
   "outputs": [
    {
     "data": {
      "text/plain": [
       "('18', 1812042, 'food_fat', 1811948, '0.14')"
      ]
     },
     "execution_count": 33,
     "metadata": {},
     "output_type": "execute_result"
    }
   ],
   "source": [
    "int_data_read.data[-10]"
   ]
  },
  {
   "cell_type": "code",
   "execution_count": 34,
   "metadata": {},
   "outputs": [
    {
     "data": {
      "text/plain": [
       "{'food_fat', 'food_sc', 'water'}"
      ]
     },
     "execution_count": 34,
     "metadata": {},
     "output_type": "execute_result"
    }
   ],
   "source": [
    "int_data_read.data_types"
   ]
  },
  {
   "cell_type": "code",
   "execution_count": 35,
   "metadata": {},
   "outputs": [],
   "source": [
    "#data_read.convert(mode=write_format, tracks=sel_tracks, tracks_merge=tracks2merge, \n",
    "#                                 data_types=data_types_list, dataTypes_actions=dataTypes_act, \n",
    "#                                 window=window_size) "
   ]
  },
  {
   "cell_type": "code",
   "execution_count": 36,
   "metadata": {},
   "outputs": [
    {
     "name": "stderr",
     "output_type": "stream",
     "text": [
      "Chromosome fasta like file will be dump into \"/Users/jespinosa/git/pergola/doc/notebooks\" as it has not been set using path_w\n",
      "Genome fasta file created: /Users/jespinosa/git/pergola/doc/notebooks/chr1.fa\n"
     ]
    }
   ],
   "source": [
    "mapping.write_chr (int_data_read)"
   ]
  },
  {
   "cell_type": "code",
   "execution_count": 37,
   "metadata": {},
   "outputs": [
    {
     "name": "stderr",
     "output_type": "stream",
     "text": [
      "Cytoband like file will be dump into \"/Users/jespinosa/git/pergola/doc/notebooks\" as it has not been set using path_w\n",
      "Bed files with phases will be dump into \"/Users/jespinosa/git/pergola/doc/notebooks\" as it has not been set using path_w\n"
     ]
    }
   ],
   "source": [
    "# Generate a cytoband file and a bed file with phases\n",
    "mapping.write_cytoband(end = int_data.max - int_data.min, delta=43200, start_phase=\"dark\", lab_bed=False)"
   ]
  },
  {
   "cell_type": "code",
   "execution_count": 38,
   "metadata": {},
   "outputs": [
    {
     "name": "stderr",
     "output_type": "stream",
     "text": [
      "Relative coordinates set to: True\n"
     ]
    }
   ],
   "source": [
    "#data_read = intData.read(relative_coord=True, multiply_t=1)\n",
    "data_read = int_data.read(relative_coord=True)"
   ]
  },
  {
   "cell_type": "code",
   "execution_count": 39,
   "metadata": {},
   "outputs": [],
   "source": [
    "#for i in data_read.data:\n",
    "#        print i"
   ]
  },
  {
   "cell_type": "code",
   "execution_count": 40,
   "metadata": {},
   "outputs": [],
   "source": [
    "data_type_col = {'food_sc': 'orange', 'food_fat':'blue'}"
   ]
  },
  {
   "cell_type": "code",
   "execution_count": 41,
   "metadata": {},
   "outputs": [
    {
     "name": "stderr",
     "output_type": "stream",
     "text": [
      "Removed data types are: water\n"
     ]
    }
   ],
   "source": [
    "bed_str = data_read.convert(mode=\"bed\", data_types=[\"food_sc\", \"food_fat\"], dataTypes_actions=\"all\", \n",
    "                            color_restrictions=data_type_col)"
   ]
  },
  {
   "cell_type": "code",
   "execution_count": 42,
   "metadata": {},
   "outputs": [
    {
     "name": "stderr",
     "output_type": "stream",
     "text": [
      "No path selected, files dump into path:  /Users/jespinosa/git/pergola/doc/notebooks\n",
      "File tr_12_dt_food_sc.bed generated\n",
      "No path selected, files dump into path:  /Users/jespinosa/git/pergola/doc/notebooks\n",
      "File tr_14_dt_food_fat.bed generated\n",
      "No path selected, files dump into path:  /Users/jespinosa/git/pergola/doc/notebooks\n",
      "File tr_1_dt_food_sc.bed generated\n",
      "No path selected, files dump into path:  /Users/jespinosa/git/pergola/doc/notebooks\n",
      "File tr_2_dt_food_sc.bed generated\n",
      "No path selected, files dump into path:  /Users/jespinosa/git/pergola/doc/notebooks\n",
      "File tr_15_dt_food_sc.bed generated\n",
      "No path selected, files dump into path:  /Users/jespinosa/git/pergola/doc/notebooks\n",
      "File tr_5_dt_food_sc.bed generated\n",
      "No path selected, files dump into path:  /Users/jespinosa/git/pergola/doc/notebooks\n",
      "File tr_16_dt_food_fat.bed generated\n",
      "No path selected, files dump into path:  /Users/jespinosa/git/pergola/doc/notebooks\n",
      "File tr_14_dt_food_sc.bed generated\n",
      "No path selected, files dump into path:  /Users/jespinosa/git/pergola/doc/notebooks\n",
      "File tr_11_dt_food_sc.bed generated\n",
      "No path selected, files dump into path:  /Users/jespinosa/git/pergola/doc/notebooks\n",
      "File tr_3_dt_food_sc.bed generated\n",
      "No path selected, files dump into path:  /Users/jespinosa/git/pergola/doc/notebooks\n",
      "File tr_2_dt_food_fat.bed generated\n",
      "No path selected, files dump into path:  /Users/jespinosa/git/pergola/doc/notebooks\n",
      "File tr_10_dt_food_fat.bed generated\n",
      "No path selected, files dump into path:  /Users/jespinosa/git/pergola/doc/notebooks\n",
      "File tr_4_dt_food_sc.bed generated\n",
      "No path selected, files dump into path:  /Users/jespinosa/git/pergola/doc/notebooks\n",
      "File tr_17_dt_food_sc.bed generated\n",
      "No path selected, files dump into path:  /Users/jespinosa/git/pergola/doc/notebooks\n",
      "File tr_9_dt_food_sc.bed generated\n",
      "No path selected, files dump into path:  /Users/jespinosa/git/pergola/doc/notebooks\n",
      "File tr_12_dt_food_fat.bed generated\n",
      "No path selected, files dump into path:  /Users/jespinosa/git/pergola/doc/notebooks\n",
      "File tr_16_dt_food_sc.bed generated\n",
      "No path selected, files dump into path:  /Users/jespinosa/git/pergola/doc/notebooks\n",
      "File tr_10_dt_food_sc.bed generated\n",
      "No path selected, files dump into path:  /Users/jespinosa/git/pergola/doc/notebooks\n",
      "File tr_8_dt_food_fat.bed generated\n",
      "No path selected, files dump into path:  /Users/jespinosa/git/pergola/doc/notebooks\n",
      "File tr_7_dt_food_sc.bed generated\n",
      "No path selected, files dump into path:  /Users/jespinosa/git/pergola/doc/notebooks\n",
      "File tr_18_dt_food_sc.bed generated\n",
      "No path selected, files dump into path:  /Users/jespinosa/git/pergola/doc/notebooks\n",
      "File tr_18_dt_food_fat.bed generated\n",
      "No path selected, files dump into path:  /Users/jespinosa/git/pergola/doc/notebooks\n",
      "File tr_4_dt_food_fat.bed generated\n",
      "No path selected, files dump into path:  /Users/jespinosa/git/pergola/doc/notebooks\n",
      "File tr_13_dt_food_sc.bed generated\n",
      "No path selected, files dump into path:  /Users/jespinosa/git/pergola/doc/notebooks\n",
      "File tr_8_dt_food_sc.bed generated\n"
     ]
    }
   ],
   "source": [
    "for key in bed_str:\n",
    "    bedSingle = bed_str[key]\n",
    "    bedSingle.save_track()"
   ]
  },
  {
   "cell_type": "markdown",
   "metadata": {},
   "source": [
    "## Output data"
   ]
  },
  {
   "cell_type": "markdown",
   "metadata": {},
   "source": [
    "``pergola`` allows the conversion to several genomic formats, here we summarize some commands and operations as an example of ``pergola`` capabilities:"
   ]
  },
  {
   "cell_type": "markdown",
   "metadata": {},
   "source": [
    "## Bed file"
   ]
  },
  {
   "cell_type": "markdown",
   "metadata": {},
   "source": [
    "```\n",
    "track type=bed name=\"1_eat\" description=\"1 eat\" visibility=2 itemRgb=\"On\" priority=20\n",
    "chr1\t137.0\t156.0\t\"\"\t0.06\t+\t137.0\t156.0\t51,254,51\n",
    "chr1\t250.0\t281.0\t\"\"\t0.07\t+\t250.0\t281.0\t0,254,0\n",
    "chr1\t311.0\t333.0\t\"\"\t0.08\t+\t311.0\t333.0\t25,115,25\n",
    "```"
   ]
  },
  {
   "cell_type": "markdown",
   "metadata": {},
   "source": [
    "```\n",
    "track type=bed name=\"1_eat\" description=\"1 eat\" visibility=2 itemRgb=\"On\" priority=20\n",
    "chr1\t0\t19\t\"\"\t0.06\t+\t0\t19\t51,254,51\n",
    "chr1\t113\t144\t\"\"\t0.07\t+\t113\t144\t0,254,0\n",
    "chr1\t174\t196\t\"\"\t0.08\t+\t174\t196\t25,115,25\n",
    "```"
   ]
  },
  {
   "cell_type": "code",
   "execution_count": 43,
   "metadata": {},
   "outputs": [],
   "source": [
    "data_type_col_bedGraph = {'food_sc':'orange', 'food_fat_food_sc':'blue'}"
   ]
  },
  {
   "cell_type": "code",
   "execution_count": 44,
   "metadata": {},
   "outputs": [
    {
     "name": "stderr",
     "output_type": "stream",
     "text": [
      "Removed data types are: water\n"
     ]
    }
   ],
   "source": [
    "bedGraph_str = data_read.convert(mode=\"bedGraph\", window=1800, data_types=[\"food_sc\", \"food_fat\"], dataTypes_actions=\"all\", color_restrictions=data_type_col_bedGraph)"
   ]
  },
  {
   "cell_type": "code",
   "execution_count": 45,
   "metadata": {},
   "outputs": [
    {
     "name": "stderr",
     "output_type": "stream",
     "text": [
      "No path selected, files dump into path:  /Users/jespinosa/git/pergola/doc/notebooks\n",
      "File tr_12_dt_food_sc.bedGraph generated\n",
      "No path selected, files dump into path:  /Users/jespinosa/git/pergola/doc/notebooks\n",
      "File tr_14_dt_food_fat.bedGraph generated\n",
      "No path selected, files dump into path:  /Users/jespinosa/git/pergola/doc/notebooks\n",
      "File tr_1_dt_food_sc.bedGraph generated\n",
      "No path selected, files dump into path:  /Users/jespinosa/git/pergola/doc/notebooks\n",
      "File tr_2_dt_food_sc.bedGraph generated\n",
      "No path selected, files dump into path:  /Users/jespinosa/git/pergola/doc/notebooks\n",
      "File tr_15_dt_food_sc.bedGraph generated\n",
      "No path selected, files dump into path:  /Users/jespinosa/git/pergola/doc/notebooks\n",
      "File tr_5_dt_food_sc.bedGraph generated\n",
      "No path selected, files dump into path:  /Users/jespinosa/git/pergola/doc/notebooks\n",
      "File tr_16_dt_food_fat.bedGraph generated\n",
      "No path selected, files dump into path:  /Users/jespinosa/git/pergola/doc/notebooks\n",
      "File tr_14_dt_food_sc.bedGraph generated\n",
      "No path selected, files dump into path:  /Users/jespinosa/git/pergola/doc/notebooks\n",
      "File tr_11_dt_food_sc.bedGraph generated\n",
      "No path selected, files dump into path:  /Users/jespinosa/git/pergola/doc/notebooks\n",
      "File tr_3_dt_food_sc.bedGraph generated\n",
      "No path selected, files dump into path:  /Users/jespinosa/git/pergola/doc/notebooks\n",
      "File tr_2_dt_food_fat.bedGraph generated\n",
      "No path selected, files dump into path:  /Users/jespinosa/git/pergola/doc/notebooks\n",
      "File tr_10_dt_food_fat.bedGraph generated\n",
      "No path selected, files dump into path:  /Users/jespinosa/git/pergola/doc/notebooks\n",
      "File tr_4_dt_food_sc.bedGraph generated\n",
      "No path selected, files dump into path:  /Users/jespinosa/git/pergola/doc/notebooks\n",
      "File tr_17_dt_food_sc.bedGraph generated\n",
      "No path selected, files dump into path:  /Users/jespinosa/git/pergola/doc/notebooks\n",
      "File tr_9_dt_food_sc.bedGraph generated\n",
      "No path selected, files dump into path:  /Users/jespinosa/git/pergola/doc/notebooks\n",
      "File tr_12_dt_food_fat.bedGraph generated\n",
      "No path selected, files dump into path:  /Users/jespinosa/git/pergola/doc/notebooks\n",
      "File tr_16_dt_food_sc.bedGraph generated\n",
      "No path selected, files dump into path:  /Users/jespinosa/git/pergola/doc/notebooks\n",
      "File tr_10_dt_food_sc.bedGraph generated\n",
      "No path selected, files dump into path:  /Users/jespinosa/git/pergola/doc/notebooks\n",
      "File tr_8_dt_food_fat.bedGraph generated\n",
      "No path selected, files dump into path:  /Users/jespinosa/git/pergola/doc/notebooks\n",
      "File tr_7_dt_food_sc.bedGraph generated\n",
      "No path selected, files dump into path:  /Users/jespinosa/git/pergola/doc/notebooks\n",
      "File tr_18_dt_food_sc.bedGraph generated\n",
      "No path selected, files dump into path:  /Users/jespinosa/git/pergola/doc/notebooks\n",
      "File tr_18_dt_food_fat.bedGraph generated\n",
      "No path selected, files dump into path:  /Users/jespinosa/git/pergola/doc/notebooks\n",
      "File tr_4_dt_food_fat.bedGraph generated\n",
      "No path selected, files dump into path:  /Users/jespinosa/git/pergola/doc/notebooks\n",
      "File tr_13_dt_food_sc.bedGraph generated\n",
      "No path selected, files dump into path:  /Users/jespinosa/git/pergola/doc/notebooks\n",
      "File tr_8_dt_food_sc.bedGraph generated\n"
     ]
    }
   ],
   "source": [
    "for key in bedGraph_str:\n",
    "    bedGraph_single = bedGraph_str[key]\n",
    "    bedGraph_single.save_track()"
   ]
  },
  {
   "cell_type": "markdown",
   "metadata": {},
   "source": [
    "## bedGraph files"
   ]
  },
  {
   "cell_type": "markdown",
   "metadata": {},
   "source": [
    "```\n",
    "track type=bedGraph name=\"1_eat\" description=\"1_eat\" visibility=full color=0,254,0 altColor=25,115,25 priority=20\n",
    "chr1\t0\t30\t0.06\n",
    "chr1\t30\t60\t0\n",
    "chr1\t60\t90\t0\n",
    "chr1\t90\t120\t0.0158064516129\n",
    "chr1\t120\t150\t0.0541935483871\n",
    "chr1\t150\t180\t0.0218181818182\n",
    "chr1\t180\t210\t0.0581818181818\n",
    "chr1\t210\t240\t0\n",
    "```"
   ]
  },
  {
   "cell_type": "code",
   "execution_count": 48,
   "metadata": {},
   "outputs": [],
   "source": [
    "## Bed file showing the files (recordings)\n",
    "# reading correspondence file\n",
    "mapping_file_data = mapping.MappingInfo(\"../../sample_data/feeding_behavior/f2g.txt\")"
   ]
  },
  {
   "cell_type": "code",
   "execution_count": 49,
   "metadata": {},
   "outputs": [
    {
     "name": "stdout",
     "output_type": "stream",
     "text": [
      "Value \tdata_value\n",
      "EndT \tend\n",
      "StartT \tstart\n",
      "File \ttrack\n",
      "NameFile \tdata_types\n"
     ]
    }
   ],
   "source": [
    "mapping_file_data.write()"
   ]
  },
  {
   "cell_type": "code",
   "execution_count": 50,
   "metadata": {},
   "outputs": [
    {
     "name": "stderr",
     "output_type": "stream",
     "text": [
      "Input file format identified as csv\n",
      "Relative coordinates set to: True\n"
     ]
    }
   ],
   "source": [
    "# Reading file info\n",
    "files_data = intervals.IntData(\"../../sample_data/feeding_behavior/files.csv\", map_dict=mapping_file_data.correspondence)\n",
    "data_file_read = files_data.read(relative_coord=True)"
   ]
  },
  {
   "cell_type": "code",
   "execution_count": 51,
   "metadata": {},
   "outputs": [
    {
     "name": "stderr",
     "output_type": "stream",
     "text": [
      "Tracks that will be merged are: 1 3 2 5 4 7 6 9 8\n"
     ]
    }
   ],
   "source": [
    "bed_file = data_file_read.convert(mode=\"bed\", dataTypes_actions=\"all\", tracks_merge=files_data.tracks)\n"
   ]
  },
  {
   "cell_type": "code",
   "execution_count": 52,
   "metadata": {},
   "outputs": [
    {
     "name": "stderr",
     "output_type": "stream",
     "text": [
      "No path selected, files dump into path:  /Users/jespinosa/git/pergola/doc/notebooks\n",
      "File files_data.bed generated\n",
      "No path selected, files dump into path:  /Users/jespinosa/git/pergola/doc/notebooks\n",
      "File files_data.bed generated\n",
      "No path selected, files dump into path:  /Users/jespinosa/git/pergola/doc/notebooks\n",
      "File files_data.bed generated\n",
      "No path selected, files dump into path:  /Users/jespinosa/git/pergola/doc/notebooks\n",
      "File files_data.bed generated\n",
      "No path selected, files dump into path:  /Users/jespinosa/git/pergola/doc/notebooks\n",
      "File files_data.bed generated\n",
      "No path selected, files dump into path:  /Users/jespinosa/git/pergola/doc/notebooks\n",
      "File files_data.bed generated\n",
      "No path selected, files dump into path:  /Users/jespinosa/git/pergola/doc/notebooks\n",
      "File files_data.bed generated\n",
      "No path selected, files dump into path:  /Users/jespinosa/git/pergola/doc/notebooks\n",
      "File files_data.bed generated\n",
      "No path selected, files dump into path:  /Users/jespinosa/git/pergola/doc/notebooks\n",
      "File files_data.bed generated\n"
     ]
    }
   ],
   "source": [
    "for key in bed_file:\n",
    "    bed_file_single = bed_file[key]\n",
    "    bed_file_single.save_track(name_file = \"files_data\")"
   ]
  },
  {
   "cell_type": "code",
   "execution_count": 53,
   "metadata": {},
   "outputs": [
    {
     "name": "stderr",
     "output_type": "stream",
     "text": [
      "Input file format identified as csv\n",
      "Relative coordinates set to: True\n"
     ]
    }
   ],
   "source": [
    "# Reading phase info\n",
    "phase_data = intervals.IntData(\"../../sample_data/feeding_behavior/phases_exp.csv\", map_dict=mapping_file_data.correspondence)\n",
    "data_phase_read = phase_data.read(relative_coord=True)"
   ]
  },
  {
   "cell_type": "code",
   "execution_count": 54,
   "metadata": {},
   "outputs": [
    {
     "name": "stderr",
     "output_type": "stream",
     "text": [
      "Tracks that will be merged are: 1 2\n"
     ]
    }
   ],
   "source": [
    "bed_file = data_phase_read.convert(mode=\"bed\", dataTypes_actions=\"all\", tracks_merge=phase_data.tracks)"
   ]
  },
  {
   "cell_type": "code",
   "execution_count": 55,
   "metadata": {},
   "outputs": [
    {
     "name": "stderr",
     "output_type": "stream",
     "text": [
      "No path selected, files dump into path:  /Users/jespinosa/git/pergola/doc/notebooks\n",
      "File phase_exp.bed generated\n",
      "No path selected, files dump into path:  /Users/jespinosa/git/pergola/doc/notebooks\n",
      "File phase_exp.bed generated\n"
     ]
    }
   ],
   "source": [
    "for key in bed_file:\n",
    "    bed_file_single = bed_file[key]\n",
    "    bed_file_single.save_track(name_file = \"phase_exp\")"
   ]
  },
  {
   "cell_type": "markdown",
   "metadata": {},
   "source": [
    "means bed file to delete"
   ]
  },
  {
   "cell_type": "markdown",
   "metadata": {},
   "source": [
    "```\n",
    "chr1\t1\t1801\t\"\"\t1000\t+\t0\t1\t0.06\n",
    "chr1\t137171\t138971\t\"\"\t1000\t+\t132936\t137171\t0\n",
    "chr1\t397442\t399242\t\"\"\t1000\t+\t391684\t397442\t0\n",
    "chr1\t568633\t570433\t\"\"\t1000\t+\t563646\t568633\t0.125714\n",
    "```"
   ]
  },
  {
   "cell_type": "markdown",
   "metadata": {},
   "source": [
    "intermeal to delete"
   ]
  },
  {
   "cell_type": "markdown",
   "metadata": {},
   "source": [
    "```\n",
    "chr1\t1\t30\t\"\"\t1000\t+\t1\t30\t0\n",
    "chr1\t183\t345\t\"\"\t1000\t+\t183\t345\t0\n",
    "chr1\t502\t924\t\"\"\t1000\t+\t502\t924\t0\n",
    "\n",
    "```"
   ]
  },
  {
   "cell_type": "code",
   "execution_count": null,
   "metadata": {
    "collapsed": true
   },
   "outputs": [],
   "source": []
  }
 ],
 "metadata": {
  "kernelspec": {
   "display_name": "Python 2",
   "language": "python",
   "name": "python2"
  },
  "language_info": {
   "codemirror_mode": {
    "name": "ipython",
    "version": 2
   },
   "file_extension": ".py",
   "mimetype": "text/x-python",
   "name": "python",
   "nbconvert_exporter": "python",
   "pygments_lexer": "ipython2",
   "version": "2.7.13"
  }
 },
 "nbformat": 4,
 "nbformat_minor": 1
}
